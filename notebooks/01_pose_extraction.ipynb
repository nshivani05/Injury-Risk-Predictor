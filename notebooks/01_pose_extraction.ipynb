{
 "cells": [
  {
   "cell_type": "code",
   "execution_count": null,
   "id": "be8a0536",
   "metadata": {},
   "outputs": [
    {
     "name": "stdout",
     "output_type": "stream",
     "text": [
      "Saved 361 frames to ../data/pose_keypoints.npy\n"
     ]
    }
   ],
   "source": [
    "import cv2\n",
    "import mediapipe as mp\n",
    "import numpy as np\n",
    "import os\n",
    "\n",
    "# correct relative path from notebooks/ to src/data\n",
    "VIDEO_PATH = \"../src/data/mysquat.mp4\"\n",
    "OUTPUT_PATH = \"../data/pose_keypoints.npy\"   # if notebook is inside notebooks/\n",
    "\n",
    "\n",
    "mp_pose = mp.solutions.pose\n",
    "pose = mp_pose.Pose(min_detection_confidence=0.5,\n",
    "                    min_tracking_confidence=0.5)\n",
    "\n",
    "cap = cv2.VideoCapture(VIDEO_PATH)\n",
    "keypoints_all = []\n",
    "\n",
    "while cap.isOpened():\n",
    "    ret, frame = cap.read()\n",
    "    if not ret:\n",
    "        break\n",
    "\n",
    "    image = cv2.cvtColor(frame, cv2.COLOR_BGR2RGB)\n",
    "    results = pose.process(image)\n",
    "\n",
    "    if results.pose_landmarks:\n",
    "        landmarks = results.pose_landmarks.landmark\n",
    "        keypoints = [(lm.x, lm.y, lm.z) for lm in landmarks]\n",
    "        keypoints_all.append(keypoints)\n",
    "\n",
    "cap.release()\n",
    "\n",
    "os.makedirs(\"../data\", exist_ok=True)\n",
    "np.save(OUTPUT_PATH, keypoints_all)\n",
    "print(f\"Saved {len(keypoints_all)} frames to {OUTPUT_PATH}\")\n"
   ]
  }
 ],
 "metadata": {
  "kernelspec": {
   "display_name": "injuryrisk",
   "language": "python",
   "name": "python3"
  },
  "language_info": {
   "codemirror_mode": {
    "name": "ipython",
    "version": 3
   },
   "file_extension": ".py",
   "mimetype": "text/x-python",
   "name": "python",
   "nbconvert_exporter": "python",
   "pygments_lexer": "ipython3",
   "version": "3.11.13"
  }
 },
 "nbformat": 4,
 "nbformat_minor": 5
}

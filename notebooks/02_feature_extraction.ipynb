{
 "cells": [
  {
   "cell_type": "code",
   "execution_count": null,
   "id": "f1f04698",
   "metadata": {},
   "outputs": [
    {
     "ename": "ModuleNotFoundError",
     "evalue": "No module named 'src'",
     "output_type": "error",
     "traceback": [
      "\u001b[31m---------------------------------------------------------------------------\u001b[39m",
      "\u001b[31mModuleNotFoundError\u001b[39m                       Traceback (most recent call last)",
      "\u001b[36mCell\u001b[39m\u001b[36m \u001b[39m\u001b[32mIn[1]\u001b[39m\u001b[32m, line 2\u001b[39m\n\u001b[32m      1\u001b[39m \u001b[38;5;28;01mimport\u001b[39;00m\u001b[38;5;250m \u001b[39m\u001b[34;01mnumpy\u001b[39;00m\u001b[38;5;250m \u001b[39m\u001b[38;5;28;01mas\u001b[39;00m\u001b[38;5;250m \u001b[39m\u001b[34;01mnp\u001b[39;00m\n\u001b[32m----> \u001b[39m\u001b[32m2\u001b[39m \u001b[38;5;28;01mfrom\u001b[39;00m\u001b[38;5;250m \u001b[39m\u001b[34;01msrc\u001b[39;00m\u001b[34;01m.\u001b[39;00m\u001b[34;01mdata\u001b[39;00m\u001b[34;01m.\u001b[39;00m\u001b[34;01mfeatures\u001b[39;00m\u001b[38;5;250m \u001b[39m\u001b[38;5;28;01mimport\u001b[39;00m knee_valgus_angle\n\u001b[32m      4\u001b[39m \u001b[38;5;66;03m# Load pose keypoints\u001b[39;00m\n\u001b[32m      5\u001b[39m keypoints_all = np.load(\u001b[33m\"\u001b[39m\u001b[33m../data/pose_keypoints.npy\u001b[39m\u001b[33m\"\u001b[39m, allow_pickle=\u001b[38;5;28;01mTrue\u001b[39;00m)\n",
      "\u001b[31mModuleNotFoundError\u001b[39m: No module named 'src'"
     ]
    }
   ],
   "source": [
    "import sys\n",
    "import os\n",
    "\n",
    "# Add repo root to sys.path\n",
    "repo_root = os.path.abspath(\"..\")\n",
    "if repo_root not in sys.path:\n",
    "    sys.path.append(repo_root)\n",
    "\n",
    "import numpy as np\n",
    "from src.data.features import knee_valgus_angle\n",
    "\n",
    "# Load pose keypoints\n",
    "keypoints_all = np.load(\"../data/pose_keypoints.npy\", allow_pickle=True)\n",
    "\n",
    "angles = []\n",
    "for frame in keypoints_all:\n",
    "    # Example: indices from MediaPipe Pose landmarks\n",
    "    # Hip = 24 (right hip), Knee = 26 (right knee), Ankle = 28 (right ankle)\n",
    "    hip = frame[24][:2]   # take x,y only\n",
    "    knee = frame[26][:2]\n",
    "    ankle = frame[28][:2]\n",
    "\n",
    "    angle_valgus = knee_valgus_angle(hip, knee, ankle)\n",
    "    angles.append(angle_valgus)\n",
    "\n",
    "np.save(\"../data/valgus_angles.npy\", angles)\n",
    "print(f\"Extracted {len(angles)} knee valgus angles\")\n"
   ]
  }
 ],
 "metadata": {
  "kernelspec": {
   "display_name": "injuryrisk",
   "language": "python",
   "name": "python3"
  },
  "language_info": {
   "codemirror_mode": {
    "name": "ipython",
    "version": 3
   },
   "file_extension": ".py",
   "mimetype": "text/x-python",
   "name": "python",
   "nbconvert_exporter": "python",
   "pygments_lexer": "ipython3",
   "version": "3.11.13"
  }
 },
 "nbformat": 4,
 "nbformat_minor": 5
}
